{
  "nbformat": 4,
  "nbformat_minor": 0,
  "metadata": {
    "colab": {
      "provenance": []
    },
    "kernelspec": {
      "name": "python3",
      "display_name": "Python 3"
    },
    "language_info": {
      "name": "python"
    }
  },
  "cells": [
    {
      "cell_type": "markdown",
      "source": [
        "1) a. variables in python                                                       \n",
        "variables are the location or a name, that can able to store a data interms of int, float, string etc                                                          \n",
        "ex: name=\"Vivek\""
      ],
      "metadata": {
        "id": "qoD-cvotlAaQ"
      }
    },
    {
      "cell_type": "markdown",
      "source": [
        "1) b. difference btw variable and constant                                      \n",
        "variables are the location or a name, that can able to store a data interms of int, float, string etc                                                          \n",
        "constant are the fixed value we can not alter that. there is no constant in python"
      ],
      "metadata": {
        "id": "wRV9RPDTlvSf"
      }
    },
    {
      "cell_type": "markdown",
      "source": [
        " 2 a) & b)\n",
        "   Datatypes"
      ],
      "metadata": {
        "id": "GB3zQIqJmeXI"
      }
    },
    {
      "cell_type": "code",
      "execution_count": null,
      "metadata": {
        "colab": {
          "base_uri": "https://localhost:8080/"
        },
        "id": "kTzCSxre1kbe",
        "outputId": "f40c87cd-7ae9-4c51-c6ce-4ab21b4d054c"
      },
      "outputs": [
        {
          "output_type": "execute_result",
          "data": {
            "text/plain": [
              "int"
            ]
          },
          "metadata": {},
          "execution_count": 1
        }
      ],
      "source": [
        "x=50\n",
        "type(x)"
      ]
    },
    {
      "cell_type": "code",
      "source": [
        "y=99.9\n",
        "type(y)"
      ],
      "metadata": {
        "colab": {
          "base_uri": "https://localhost:8080/"
        },
        "id": "kantKUc21r0Y",
        "outputId": "adeebc50-6aeb-4ddc-d100-dbd3329ed947"
      },
      "execution_count": null,
      "outputs": [
        {
          "output_type": "execute_result",
          "data": {
            "text/plain": [
              "float"
            ]
          },
          "metadata": {},
          "execution_count": 2
        }
      ]
    },
    {
      "cell_type": "code",
      "source": [
        "name=\"vivek\"\n",
        "type(name)"
      ],
      "metadata": {
        "colab": {
          "base_uri": "https://localhost:8080/"
        },
        "id": "fhPgSOWE2C-j",
        "outputId": "ad76279c-d989-4256-cec9-ba8d8c78a247"
      },
      "execution_count": null,
      "outputs": [
        {
          "output_type": "execute_result",
          "data": {
            "text/plain": [
              "str"
            ]
          },
          "metadata": {},
          "execution_count": 3
        }
      ]
    },
    {
      "cell_type": "code",
      "source": [
        "a=10\n",
        "b=a>4\n",
        "type(b)"
      ],
      "metadata": {
        "colab": {
          "base_uri": "https://localhost:8080/"
        },
        "id": "WqYw8KES2Ix6",
        "outputId": "17116e52-dd60-4237-abf5-294a67311028"
      },
      "execution_count": null,
      "outputs": [
        {
          "output_type": "execute_result",
          "data": {
            "text/plain": [
              "bool"
            ]
          },
          "metadata": {},
          "execution_count": 15
        }
      ]
    },
    {
      "cell_type": "markdown",
      "source": [
        " 3a)Arithmatic operations"
      ],
      "metadata": {
        "id": "kTj5wc3UmmEo"
      }
    },
    {
      "cell_type": "code",
      "source": [
        "#1.addition\n",
        "a=10\n",
        "b=5\n",
        "result=a+b\n",
        "print(result)"
      ],
      "metadata": {
        "colab": {
          "base_uri": "https://localhost:8080/"
        },
        "id": "DkWlekAI2OUo",
        "outputId": "1e78e8f8-ef57-4e1a-a147-bc315c7dda76"
      },
      "execution_count": null,
      "outputs": [
        {
          "output_type": "stream",
          "name": "stdout",
          "text": [
            "15\n"
          ]
        }
      ]
    },
    {
      "cell_type": "code",
      "source": [
        "# 2.substraction\n",
        "a=10\n",
        "\n",
        "b=5\n",
        "result=a-b\n",
        "print(result)"
      ],
      "metadata": {
        "colab": {
          "base_uri": "https://localhost:8080/"
        },
        "id": "O-2xuC3M6Dzl",
        "outputId": "affd684b-22ec-4172-e04a-8428d87a8a5e"
      },
      "execution_count": null,
      "outputs": [
        {
          "output_type": "stream",
          "name": "stdout",
          "text": [
            "5\n"
          ]
        }
      ]
    },
    {
      "cell_type": "code",
      "source": [
        "# 3.multiplication\n",
        "a=10\n",
        "b=5\n",
        "result=a*b\n",
        "print(result)"
      ],
      "metadata": {
        "colab": {
          "base_uri": "https://localhost:8080/"
        },
        "id": "qK2gSFD66tGO",
        "outputId": "d078b2c6-f7ea-418c-ed2b-484ab38552e6"
      },
      "execution_count": null,
      "outputs": [
        {
          "output_type": "stream",
          "name": "stdout",
          "text": [
            "50\n"
          ]
        }
      ]
    },
    {
      "cell_type": "code",
      "source": [
        "# 4.division\n",
        "a=10\n",
        "b=5\n",
        "result=a/b\n",
        "print(result)"
      ],
      "metadata": {
        "colab": {
          "base_uri": "https://localhost:8080/"
        },
        "id": "7vcAtCOa7BRJ",
        "outputId": "f243742a-6d4a-465a-f636-3d75558d02ba"
      },
      "execution_count": null,
      "outputs": [
        {
          "output_type": "stream",
          "name": "stdout",
          "text": [
            "2.0\n"
          ]
        }
      ]
    },
    {
      "cell_type": "code",
      "source": [
        "# 5.modulud\n",
        "a=10\n",
        "b=3\n",
        "result=a%b\n",
        "print(result)"
      ],
      "metadata": {
        "colab": {
          "base_uri": "https://localhost:8080/"
        },
        "id": "q80HSOEX7RdJ",
        "outputId": "d8a136ec-8767-4d3b-9b1b-34b39f7e8fa0"
      },
      "execution_count": null,
      "outputs": [
        {
          "output_type": "stream",
          "name": "stdout",
          "text": [
            "1\n"
          ]
        }
      ]
    },
    {
      "cell_type": "code",
      "source": [
        "# 6.exponentation\n",
        "a=2\n",
        "b=3\n",
        "result=a**b\n",
        "print(result)"
      ],
      "metadata": {
        "colab": {
          "base_uri": "https://localhost:8080/"
        },
        "id": "-kB4IQsq7bUS",
        "outputId": "a1c28801-cc5f-4d84-a701-c8c0e5e49ce6"
      },
      "execution_count": null,
      "outputs": [
        {
          "output_type": "stream",
          "name": "stdout",
          "text": [
            "8\n"
          ]
        }
      ]
    },
    {
      "cell_type": "code",
      "source": [
        "# 7.floor division\n",
        "a=10\n",
        "b=3\n",
        "result=a//b\n",
        "print(result)"
      ],
      "metadata": {
        "colab": {
          "base_uri": "https://localhost:8080/"
        },
        "id": "1ROMMjo17q2J",
        "outputId": "e1137d89-36ff-4c7c-b073-9eefd43b272a"
      },
      "execution_count": null,
      "outputs": [
        {
          "output_type": "stream",
          "name": "stdout",
          "text": [
            "3\n"
          ]
        }
      ]
    },
    {
      "cell_type": "markdown",
      "source": [
        " 3 b)area of rectangle"
      ],
      "metadata": {
        "id": "fZMlhoBcm3fo"
      }
    },
    {
      "cell_type": "code",
      "source": [
        "l=5\n",
        "w=10\n",
        "area=l*w\n",
        "print(area)"
      ],
      "metadata": {
        "colab": {
          "base_uri": "https://localhost:8080/"
        },
        "id": "PbaC2KAN8FNa",
        "outputId": "60406b15-5d7a-4eca-c6ab-dbfde44bf8a7"
      },
      "execution_count": null,
      "outputs": [
        {
          "output_type": "stream",
          "name": "stdout",
          "text": [
            "50\n"
          ]
        }
      ]
    },
    {
      "cell_type": "markdown",
      "source": [
        " 4 a)Comparision and logical operation"
      ],
      "metadata": {
        "id": "ULauTmUlm8mY"
      }
    },
    {
      "cell_type": "code",
      "source": [
        "#  1.equal\n",
        "a=5\n",
        "b=5\n",
        "a==5\n"
      ],
      "metadata": {
        "colab": {
          "base_uri": "https://localhost:8080/"
        },
        "id": "AjCTuhBU9ZXc",
        "outputId": "b4b8872d-185d-4082-ff3b-8c2fbaaede08"
      },
      "execution_count": null,
      "outputs": [
        {
          "output_type": "execute_result",
          "data": {
            "text/plain": [
              "True"
            ]
          },
          "metadata": {},
          "execution_count": 29
        }
      ]
    },
    {
      "cell_type": "code",
      "source": [
        "#  2.not equal\n",
        "a=5\n",
        "b=5\n",
        "a!=5\n"
      ],
      "metadata": {
        "colab": {
          "base_uri": "https://localhost:8080/"
        },
        "id": "ewgeMWUu-BEY",
        "outputId": "b4edccef-de91-426f-a6fe-12d9212b94d9"
      },
      "execution_count": null,
      "outputs": [
        {
          "output_type": "execute_result",
          "data": {
            "text/plain": [
              "False"
            ]
          },
          "metadata": {},
          "execution_count": 30
        }
      ]
    },
    {
      "cell_type": "code",
      "source": [
        "#  3.greater than\n",
        "a=5\n",
        "b=3\n",
        "a>b\n"
      ],
      "metadata": {
        "colab": {
          "base_uri": "https://localhost:8080/"
        },
        "id": "W0GV2up0-JnH",
        "outputId": "5a186acf-21b0-404b-f2eb-1ff3b1c2adb2"
      },
      "execution_count": null,
      "outputs": [
        {
          "output_type": "execute_result",
          "data": {
            "text/plain": [
              "True"
            ]
          },
          "metadata": {},
          "execution_count": 32
        }
      ]
    },
    {
      "cell_type": "code",
      "source": [
        "#  4.lesser than\n",
        "a=5\n",
        "b=3\n",
        "a<b"
      ],
      "metadata": {
        "colab": {
          "base_uri": "https://localhost:8080/"
        },
        "id": "PYyEW0BQ-Tc3",
        "outputId": "5877c18f-29b1-45ba-a353-f963bdd41f60"
      },
      "execution_count": null,
      "outputs": [
        {
          "output_type": "execute_result",
          "data": {
            "text/plain": [
              "False"
            ]
          },
          "metadata": {},
          "execution_count": 33
        }
      ]
    },
    {
      "cell_type": "code",
      "source": [
        "#  3.greater than or equal\n",
        "a=5\n",
        "b=3\n",
        "a>=b"
      ],
      "metadata": {
        "colab": {
          "base_uri": "https://localhost:8080/"
        },
        "id": "C8aW9RA--i9N",
        "outputId": "45ea69a0-f7cc-4ac0-c248-74cb80ce82df"
      },
      "execution_count": null,
      "outputs": [
        {
          "output_type": "execute_result",
          "data": {
            "text/plain": [
              "True"
            ]
          },
          "metadata": {},
          "execution_count": 34
        }
      ]
    },
    {
      "cell_type": "code",
      "source": [
        "#  3.less than or equal\n",
        "a=10\n",
        "b=30\n",
        "a<=b"
      ],
      "metadata": {
        "colab": {
          "base_uri": "https://localhost:8080/"
        },
        "id": "ViV2vMt1-ozH",
        "outputId": "5dd3b501-f84a-46f1-a04d-c9e72a75d5c4"
      },
      "execution_count": null,
      "outputs": [
        {
          "output_type": "execute_result",
          "data": {
            "text/plain": [
              "True"
            ]
          },
          "metadata": {},
          "execution_count": 37
        }
      ]
    },
    {
      "cell_type": "markdown",
      "source": [
        "4) b. using logical operator write a python script that check if a num is positive and even"
      ],
      "metadata": {
        "id": "AB9aRpQOoGkw"
      }
    },
    {
      "cell_type": "code",
      "source": [
        "num=int(input(\"enter a number\"))\n",
        "if num>0 and num%2==0:\n",
        "    print(\"the number is positive and even\")\n",
        "else :\n",
        "    print(\"the number is not positive and even\")"
      ],
      "metadata": {
        "colab": {
          "base_uri": "https://localhost:8080/"
        },
        "id": "cLJMOybuoWaR",
        "outputId": "fc8145f3-5281-4218-9eba-9d8e4e2714e2"
      },
      "execution_count": null,
      "outputs": [
        {
          "output_type": "stream",
          "name": "stdout",
          "text": [
            "enter a number33\n",
            "the number is not positive and even\n"
          ]
        }
      ]
    },
    {
      "cell_type": "markdown",
      "source": [
        "5) a. type casting                                                              \n",
        "converting one type of data into anther type                                    \n",
        "implicit: automatically it convert one type into another type of data           \n",
        "ex: a=10   b=5.5\n",
        "     r=a+b                                                                      \n",
        "explicit: manually we convert the data type of a variable                       \n",
        "ex: a=\"1000\"          \n",
        "r=int(a)"
      ],
      "metadata": {
        "id": "RvnZ4O5_ofOw"
      }
    },
    {
      "cell_type": "markdown",
      "source": [
        "5 b)python script for"
      ],
      "metadata": {
        "id": "igJcClL9nO8H"
      }
    },
    {
      "cell_type": "code",
      "source": [
        "# 1.convert float to an int\n",
        "x=55.55\n",
        "y=int(x)\n",
        "print(y)\n",
        "type(y)"
      ],
      "metadata": {
        "colab": {
          "base_uri": "https://localhost:8080/"
        },
        "id": "rif459DS-vmN",
        "outputId": "50bb6863-733a-482d-d212-b5751afe5aea"
      },
      "execution_count": null,
      "outputs": [
        {
          "output_type": "stream",
          "name": "stdout",
          "text": [
            "55\n"
          ]
        },
        {
          "output_type": "execute_result",
          "data": {
            "text/plain": [
              "int"
            ]
          },
          "metadata": {},
          "execution_count": 39
        }
      ]
    },
    {
      "cell_type": "code",
      "source": [
        "# 1.convert int to an str\n",
        "x=1000\n",
        "b=str(a)\n",
        "print(b)\n",
        "type(b)"
      ],
      "metadata": {
        "colab": {
          "base_uri": "https://localhost:8080/"
        },
        "id": "tiKYyZWW_Q0G",
        "outputId": "7de29093-c4ac-4f69-ddde-5974b844c257"
      },
      "execution_count": null,
      "outputs": [
        {
          "output_type": "stream",
          "name": "stdout",
          "text": [
            "10\n"
          ]
        },
        {
          "output_type": "execute_result",
          "data": {
            "text/plain": [
              "str"
            ]
          },
          "metadata": {},
          "execution_count": 40
        }
      ]
    },
    {
      "cell_type": "code",
      "source": [
        "# 1.convert str to an float\n",
        "a=\"123.5\"\n",
        "b=float(a)\n",
        "print(b)\n",
        "type(b)\n"
      ],
      "metadata": {
        "colab": {
          "base_uri": "https://localhost:8080/"
        },
        "id": "yUrLeR18_kzg",
        "outputId": "1722eda4-7740-4b72-b476-4715ecc550a1"
      },
      "execution_count": null,
      "outputs": [
        {
          "output_type": "stream",
          "name": "stdout",
          "text": [
            "123.5\n"
          ]
        },
        {
          "output_type": "execute_result",
          "data": {
            "text/plain": [
              "float"
            ]
          },
          "metadata": {},
          "execution_count": 41
        }
      ]
    },
    {
      "cell_type": "markdown",
      "source": [
        "6) write a python script for.."
      ],
      "metadata": {
        "id": "4p7XxC73njiC"
      }
    },
    {
      "cell_type": "code",
      "source": [
        "# 1.adding two num\n",
        "x=20\n",
        "y=5\n",
        "result=x+y\n",
        "print(result)"
      ],
      "metadata": {
        "colab": {
          "base_uri": "https://localhost:8080/"
        },
        "id": "4M-QND4I_ziV",
        "outputId": "e8fce2b7-4159-4878-8131-ca2302d2c744"
      },
      "execution_count": null,
      "outputs": [
        {
          "output_type": "stream",
          "name": "stdout",
          "text": [
            "25\n"
          ]
        }
      ]
    },
    {
      "cell_type": "code",
      "source": [
        "# 2.sub\n",
        "x=20\n",
        "y=5\n",
        "result=x-y\n",
        "print(result)"
      ],
      "metadata": {
        "colab": {
          "base_uri": "https://localhost:8080/"
        },
        "id": "kRdpyLurAQnW",
        "outputId": "0b8ca84c-9c19-428c-c2e2-9c2cceffffa0"
      },
      "execution_count": null,
      "outputs": [
        {
          "output_type": "stream",
          "name": "stdout",
          "text": [
            "15\n"
          ]
        }
      ]
    },
    {
      "cell_type": "code",
      "source": [
        "# 3.multiply two num\n",
        "x=20\n",
        "y=5\n",
        "result=x*y\n",
        "print(result)"
      ],
      "metadata": {
        "colab": {
          "base_uri": "https://localhost:8080/"
        },
        "id": "8Ht2l2q9AYjl",
        "outputId": "63c85ebc-facf-4a8a-8794-b082d9562aed"
      },
      "execution_count": null,
      "outputs": [
        {
          "output_type": "stream",
          "name": "stdout",
          "text": [
            "100\n"
          ]
        }
      ]
    },
    {
      "cell_type": "code",
      "source": [
        "# 4.division\n",
        "x=20\n",
        "y=5\n",
        "result=x/y\n",
        "print(result)"
      ],
      "metadata": {
        "colab": {
          "base_uri": "https://localhost:8080/"
        },
        "id": "h2pP26MkAd-g",
        "outputId": "cfacf202-ebd8-4e9d-d335-04b202777e3f"
      },
      "execution_count": null,
      "outputs": [
        {
          "output_type": "stream",
          "name": "stdout",
          "text": [
            "4.0\n"
          ]
        }
      ]
    },
    {
      "cell_type": "code",
      "source": [
        "# 5.convert the sum of the num to a str and print the type of result\n",
        "a=1000\n",
        "b=2000\n",
        "result=a+b\n",
        "str(result)\n",
        "type(str(result))"
      ],
      "metadata": {
        "colab": {
          "base_uri": "https://localhost:8080/"
        },
        "id": "kVSna3WHAlC1",
        "outputId": "d42b2b8c-cd7d-42a1-d9b9-8489ded7e5d5"
      },
      "execution_count": null,
      "outputs": [
        {
          "output_type": "execute_result",
          "data": {
            "text/plain": [
              "str"
            ]
          },
          "metadata": {},
          "execution_count": 60
        }
      ]
    },
    {
      "cell_type": "code",
      "source": [],
      "metadata": {
        "id": "7BrhmDTLTxm1"
      },
      "execution_count": null,
      "outputs": []
    },
    {
      "cell_type": "code",
      "source": [],
      "metadata": {
        "id": "2vV-IqlxWHqa"
      },
      "execution_count": null,
      "outputs": []
    }
  ]
}